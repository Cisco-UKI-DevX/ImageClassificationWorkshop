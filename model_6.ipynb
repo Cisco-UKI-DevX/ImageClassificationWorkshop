{
 "cells": [
  {
   "cell_type": "code",
   "execution_count": 1,
   "metadata": {},
   "outputs": [],
   "source": [
    "from __future__ import absolute_import, division, print_function\n",
    "\n",
    "import tensorflow as tf\n",
    "from tensorflow import keras\n",
    "import numpy as np"
   ]
  },
  {
   "cell_type": "code",
   "execution_count": 2,
   "metadata": {},
   "outputs": [],
   "source": [
    "fashion_mnist = keras.datasets.fashion_mnist\n",
    "\n",
    "(train_images, train_labels), (test_images, test_labels) = fashion_mnist.load_data()"
   ]
  },
  {
   "cell_type": "code",
   "execution_count": 3,
   "metadata": {},
   "outputs": [],
   "source": [
    "train_images = train_images / 255.0\n",
    "\n",
    "test_images = test_images / 255.0"
   ]
  },
  {
   "cell_type": "code",
   "execution_count": 4,
   "metadata": {},
   "outputs": [],
   "source": [
    "train_images = train_images.reshape(train_images.shape[0], train_images.shape[1], train_images.shape[2], 1)\n",
    "train_labels = train_labels.reshape(train_labels.shape[0], 1)\n",
    "\n",
    "test_images = test_images.reshape(test_images.shape[0], test_images.shape[1], test_images.shape[2], 1)\n",
    "test_labels = test_labels.reshape(test_labels.shape[0], 1)"
   ]
  },
  {
   "cell_type": "markdown",
   "metadata": {},
   "source": [
    "# Add Convolutional Layer and MaxPooling Layer"
   ]
  },
  {
   "cell_type": "code",
   "execution_count": 10,
   "metadata": {},
   "outputs": [],
   "source": [
    "model = keras.Sequential([\n",
    "        keras.layers.Conv2D(filters = 32, kernel_size = (5,5),activation ='relu', padding='same', \n",
    "                            input_shape = (28,28,1)),\n",
    "        keras.layers.Conv2D(filters = 32, kernel_size = (5,5),activation ='relu', padding='same'),\n",
    "        keras.layers.MaxPooling2D(pool_size=(2,2)),    \n",
    "        # Add Dropout Layer\n",
    "        keras.layers.Dropout(rate=0.5),\n",
    "        \n",
    "        keras.layers.Conv2D(filters = 64, kernel_size = (3,3),activation ='relu', padding='same'),\n",
    "        keras.layers.Conv2D(filters = 64, kernel_size = (3,3),activation ='relu', padding='same'),\n",
    "        keras.layers.MaxPooling2D(pool_size=(2,2), strides=(2,2)),    \n",
    "        # Add Dropout Layer\n",
    "        keras.layers.Dropout(rate=0.5),\n",
    "\n",
    "        keras.layers.Flatten(),\n",
    "        keras.layers.Dense(512, activation = \"relu\"),\n",
    "        # Add BatchNormalization Layer\n",
    "        keras.layers.BatchNormalization(),\n",
    "        # Add Dropout Layer\n",
    "        keras.layers.Dropout(rate=0.5),\n",
    "        keras.layers.Dense(10, activation = \"softmax\")])"
   ]
  },
  {
   "cell_type": "code",
   "execution_count": 6,
   "metadata": {},
   "outputs": [],
   "source": [
    "model.compile(optimizer='adam', \n",
    "              loss='sparse_categorical_crossentropy',\n",
    "              metrics=['accuracy'])"
   ]
  },
  {
   "cell_type": "code",
   "execution_count": 7,
   "metadata": {},
   "outputs": [],
   "source": [
    "earlystop = tf.keras.callbacks.EarlyStopping(monitor='val_loss', patience=3)"
   ]
  },
  {
   "cell_type": "code",
   "execution_count": 8,
   "metadata": {},
   "outputs": [
    {
     "name": "stdout",
     "output_type": "stream",
     "text": [
      "Train on 48000 samples, validate on 12000 samples\n",
      "WARNING:tensorflow:From /home/zmingen/Vision/target/code/workshop/venv/lib/python3.6/site-packages/tensorflow/python/ops/math_ops.py:3066: to_int32 (from tensorflow.python.ops.math_ops) is deprecated and will be removed in a future version.\n",
      "Instructions for updating:\n",
      "Use tf.cast instead.\n",
      "Epoch 1/20\n",
      "48000/48000 [==============================] - 70s 1ms/sample - loss: 0.5617 - acc: 0.7964 - val_loss: 0.3290 - val_acc: 0.8815\n",
      "Epoch 2/20\n",
      "48000/48000 [==============================] - 70s 1ms/sample - loss: 0.3918 - acc: 0.8565 - val_loss: 0.2969 - val_acc: 0.8901\n",
      "Epoch 3/20\n",
      "48000/48000 [==============================] - 70s 1ms/sample - loss: 0.3464 - acc: 0.8746 - val_loss: 0.2726 - val_acc: 0.8970\n",
      "Epoch 4/20\n",
      "48000/48000 [==============================] - 70s 1ms/sample - loss: 0.3232 - acc: 0.8836 - val_loss: 0.2530 - val_acc: 0.9059\n",
      "Epoch 5/20\n",
      "48000/48000 [==============================] - 69s 1ms/sample - loss: 0.3032 - acc: 0.8892 - val_loss: 0.2377 - val_acc: 0.9112\n",
      "Epoch 6/20\n",
      "48000/48000 [==============================] - 70s 1ms/sample - loss: 0.2902 - acc: 0.8937 - val_loss: 0.2777 - val_acc: 0.9007\n",
      "Epoch 7/20\n",
      "48000/48000 [==============================] - 70s 1ms/sample - loss: 0.2797 - acc: 0.8984 - val_loss: 0.2314 - val_acc: 0.9156\n",
      "Epoch 8/20\n",
      "48000/48000 [==============================] - 70s 1ms/sample - loss: 0.2685 - acc: 0.9015 - val_loss: 0.2252 - val_acc: 0.9166\n",
      "Epoch 9/20\n",
      "48000/48000 [==============================] - 70s 1ms/sample - loss: 0.2609 - acc: 0.9053 - val_loss: 0.2178 - val_acc: 0.9193\n",
      "Epoch 10/20\n",
      "48000/48000 [==============================] - 70s 1ms/sample - loss: 0.2522 - acc: 0.9081 - val_loss: 0.2093 - val_acc: 0.9237\n",
      "Epoch 11/20\n",
      "48000/48000 [==============================] - 70s 1ms/sample - loss: 0.2472 - acc: 0.9094 - val_loss: 0.2095 - val_acc: 0.9218\n",
      "Epoch 12/20\n",
      "48000/48000 [==============================] - 70s 1ms/sample - loss: 0.2380 - acc: 0.9120 - val_loss: 0.2054 - val_acc: 0.9235\n",
      "Epoch 13/20\n",
      "48000/48000 [==============================] - 70s 1ms/sample - loss: 0.2345 - acc: 0.9140 - val_loss: 0.2052 - val_acc: 0.9258\n",
      "Epoch 14/20\n",
      "48000/48000 [==============================] - 70s 1ms/sample - loss: 0.2299 - acc: 0.9157 - val_loss: 0.2005 - val_acc: 0.9279\n",
      "Epoch 15/20\n",
      "48000/48000 [==============================] - 70s 1ms/sample - loss: 0.2245 - acc: 0.9169 - val_loss: 0.1905 - val_acc: 0.9290\n",
      "Epoch 16/20\n",
      "48000/48000 [==============================] - 70s 1ms/sample - loss: 0.2236 - acc: 0.9175 - val_loss: 0.1920 - val_acc: 0.9285\n",
      "Epoch 17/20\n",
      "48000/48000 [==============================] - 71s 1ms/sample - loss: 0.2129 - acc: 0.9228 - val_loss: 0.2024 - val_acc: 0.9262\n",
      "Epoch 18/20\n",
      "48000/48000 [==============================] - 71s 1ms/sample - loss: 0.2135 - acc: 0.9212 - val_loss: 0.1991 - val_acc: 0.9285\n"
     ]
    },
    {
     "data": {
      "text/plain": [
       "<tensorflow.python.keras.callbacks.History at 0x7f06957ba860>"
      ]
     },
     "execution_count": 8,
     "metadata": {},
     "output_type": "execute_result"
    }
   ],
   "source": [
    "from time import time\n",
    "\n",
    "tensorboard = tf.keras.callbacks.TensorBoard(log_dir=\"logs/{}\".format(time()))\n",
    "\n",
    "model.fit(train_images, train_labels, epochs=20, validation_split=0.2, callbacks=[earlystop, tensorboard])"
   ]
  },
  {
   "cell_type": "code",
   "execution_count": 9,
   "metadata": {},
   "outputs": [
    {
     "name": "stdout",
     "output_type": "stream",
     "text": [
      "10000/10000 [==============================] - 5s 472us/sample - loss: 0.2143 - acc: 0.9236\n",
      "Test accuracy: 0.9236\n"
     ]
    }
   ],
   "source": [
    "test_loss, test_acc = model.evaluate(test_images, test_labels)\n",
    "\n",
    "print('Test accuracy:', test_acc)"
   ]
  },
  {
   "cell_type": "code",
   "execution_count": null,
   "metadata": {},
   "outputs": [],
   "source": []
  }
 ],
 "metadata": {
  "kernelspec": {
   "display_name": "Python 3",
   "language": "python",
   "name": "python3"
  },
  "language_info": {
   "codemirror_mode": {
    "name": "ipython",
    "version": 3
   },
   "file_extension": ".py",
   "mimetype": "text/x-python",
   "name": "python",
   "nbconvert_exporter": "python",
   "pygments_lexer": "ipython3",
   "version": "3.6.5"
  }
 },
 "nbformat": 4,
 "nbformat_minor": 2
}

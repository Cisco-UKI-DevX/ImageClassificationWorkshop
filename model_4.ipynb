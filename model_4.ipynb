{
 "cells": [
  {
   "cell_type": "code",
   "execution_count": 1,
   "metadata": {},
   "outputs": [],
   "source": [
    "from __future__ import absolute_import, division, print_function\n",
    "\n",
    "import tensorflow as tf\n",
    "from tensorflow import keras\n",
    "import numpy as np"
   ]
  },
  {
   "cell_type": "code",
   "execution_count": 2,
   "metadata": {},
   "outputs": [],
   "source": [
    "fashion_mnist = keras.datasets.fashion_mnist\n",
    "\n",
    "(train_images, train_labels), (test_images, test_labels) = fashion_mnist.load_data()"
   ]
  },
  {
   "cell_type": "code",
   "execution_count": 3,
   "metadata": {},
   "outputs": [],
   "source": [
    "train_images = train_images / 255.0\n",
    "\n",
    "test_images = test_images / 255.0"
   ]
  },
  {
   "cell_type": "code",
   "execution_count": 4,
   "metadata": {},
   "outputs": [],
   "source": [
    "train_images = train_images.reshape(train_images.shape[0], train_images.shape[1], train_images.shape[2], 1)\n",
    "train_labels = train_labels.reshape(train_labels.shape[0], 1)\n",
    "\n",
    "test_images = test_images.reshape(test_images.shape[0], test_images.shape[1], test_images.shape[2], 1)\n",
    "test_labels = test_labels.reshape(test_labels.shape[0], 1)"
   ]
  },
  {
   "cell_type": "markdown",
   "metadata": {},
   "source": [
    "# Add Dropout Layer"
   ]
  },
  {
   "cell_type": "code",
   "execution_count": 5,
   "metadata": {},
   "outputs": [
    {
     "name": "stdout",
     "output_type": "stream",
     "text": [
      "WARNING:tensorflow:From /home/zmingen/Vision/target/code/workshop/venv/lib/python3.6/site-packages/tensorflow/python/ops/resource_variable_ops.py:435: colocate_with (from tensorflow.python.framework.ops) is deprecated and will be removed in a future version.\n",
      "Instructions for updating:\n",
      "Colocations handled automatically by placer.\n",
      "WARNING:tensorflow:From /home/zmingen/Vision/target/code/workshop/venv/lib/python3.6/site-packages/tensorflow/python/keras/layers/core.py:143: calling dropout (from tensorflow.python.ops.nn_ops) with keep_prob is deprecated and will be removed in a future version.\n",
      "Instructions for updating:\n",
      "Please use `rate` instead of `keep_prob`. Rate should be set to `rate = 1 - keep_prob`.\n"
     ]
    }
   ],
   "source": [
    "model = keras.Sequential([\n",
    "        keras.layers.Conv2D(filters = 32, kernel_size = (5,5),activation ='relu', padding='same', \n",
    "                            input_shape = (28,28,1)),\n",
    "        keras.layers.MaxPooling2D(pool_size=(2,2)),    \n",
    "        # Add Dropout Layer\n",
    "        keras.layers.Dropout(rate=0.5),\n",
    "\n",
    "        keras.layers.Flatten(),\n",
    "        keras.layers.Dense(512, activation = \"relu\"),\n",
    "        # Add Dropout Layer\n",
    "        keras.layers.Dropout(rate=0.5),\n",
    "        keras.layers.Dense(10, activation = \"softmax\")])"
   ]
  },
  {
   "cell_type": "code",
   "execution_count": 6,
   "metadata": {},
   "outputs": [],
   "source": [
    "model.compile(optimizer='adam', \n",
    "              loss='sparse_categorical_crossentropy',\n",
    "              metrics=['accuracy'])"
   ]
  },
  {
   "cell_type": "code",
   "execution_count": 7,
   "metadata": {},
   "outputs": [],
   "source": [
    "earlystop = tf.keras.callbacks.EarlyStopping(monitor='val_loss', patience=3)"
   ]
  },
  {
   "cell_type": "code",
   "execution_count": 8,
   "metadata": {},
   "outputs": [
    {
     "name": "stdout",
     "output_type": "stream",
     "text": [
      "Train on 48000 samples, validate on 12000 samples\n",
      "Epoch 1/20\n",
      "48000/48000 [==============================] - 26s 535us/sample - loss: 0.4574 - acc: 0.8338 - val_loss: 0.3395 - val_acc: 0.8733\n",
      "Epoch 2/20\n",
      "48000/48000 [==============================] - 25s 529us/sample - loss: 0.3337 - acc: 0.8778 - val_loss: 0.2746 - val_acc: 0.8992\n",
      "Epoch 3/20\n",
      "48000/48000 [==============================] - 25s 526us/sample - loss: 0.2966 - acc: 0.8914 - val_loss: 0.2662 - val_acc: 0.9001\n",
      "Epoch 4/20\n",
      "48000/48000 [==============================] - 25s 524us/sample - loss: 0.2715 - acc: 0.8984 - val_loss: 0.2577 - val_acc: 0.9063\n",
      "Epoch 5/20\n",
      "48000/48000 [==============================] - 25s 523us/sample - loss: 0.2567 - acc: 0.9027 - val_loss: 0.2511 - val_acc: 0.9087\n",
      "Epoch 6/20\n",
      "48000/48000 [==============================] - 25s 519us/sample - loss: 0.2397 - acc: 0.9092 - val_loss: 0.2397 - val_acc: 0.9106\n",
      "Epoch 7/20\n",
      "48000/48000 [==============================] - 25s 519us/sample - loss: 0.2274 - acc: 0.9151 - val_loss: 0.2497 - val_acc: 0.9095\n",
      "Epoch 8/20\n",
      "48000/48000 [==============================] - 25s 522us/sample - loss: 0.2129 - acc: 0.9196 - val_loss: 0.2391 - val_acc: 0.9132\n",
      "Epoch 9/20\n",
      "48000/48000 [==============================] - 25s 520us/sample - loss: 0.2056 - acc: 0.9228 - val_loss: 0.2437 - val_acc: 0.9133\n",
      "Epoch 10/20\n",
      "48000/48000 [==============================] - 25s 521us/sample - loss: 0.1965 - acc: 0.9257 - val_loss: 0.2419 - val_acc: 0.9148\n",
      "Epoch 11/20\n",
      "48000/48000 [==============================] - 25s 518us/sample - loss: 0.1887 - acc: 0.9285 - val_loss: 0.2476 - val_acc: 0.9162\n",
      "Epoch 12/20\n",
      "48000/48000 [==============================] - 25s 519us/sample - loss: 0.1829 - acc: 0.9326 - val_loss: 0.2414 - val_acc: 0.9162\n",
      "Epoch 13/20\n",
      "48000/48000 [==============================] - 25s 523us/sample - loss: 0.1763 - acc: 0.9340 - val_loss: 0.2482 - val_acc: 0.9144\n",
      "Epoch 14/20\n",
      "48000/48000 [==============================] - 25s 520us/sample - loss: 0.1689 - acc: 0.9367 - val_loss: 0.2374 - val_acc: 0.9162\n",
      "Epoch 15/20\n",
      "48000/48000 [==============================] - 25s 520us/sample - loss: 0.1637 - acc: 0.9382 - val_loss: 0.2511 - val_acc: 0.9164\n",
      "Epoch 16/20\n",
      "48000/48000 [==============================] - 25s 518us/sample - loss: 0.1573 - acc: 0.9423 - val_loss: 0.2502 - val_acc: 0.9183\n",
      "Epoch 17/20\n",
      "48000/48000 [==============================] - 25s 520us/sample - loss: 0.1523 - acc: 0.9430 - val_loss: 0.2516 - val_acc: 0.9169\n",
      "Epoch 18/20\n",
      "48000/48000 [==============================] - 25s 522us/sample - loss: 0.1490 - acc: 0.9443 - val_loss: 0.2465 - val_acc: 0.9187\n",
      "Epoch 19/20\n",
      "48000/48000 [==============================] - 25s 519us/sample - loss: 0.1460 - acc: 0.9459 - val_loss: 0.2530 - val_acc: 0.9178\n",
      "Epoch 20/20\n",
      "48000/48000 [==============================] - 25s 518us/sample - loss: 0.1425 - acc: 0.9475 - val_loss: 0.2520 - val_acc: 0.9178\n"
     ]
    },
    {
     "data": {
      "text/plain": [
       "<tensorflow.python.keras.callbacks.History at 0x7f4afbe93160>"
      ]
     },
     "execution_count": 8,
     "metadata": {},
     "output_type": "execute_result"
    }
   ],
   "source": [
    "from time import time\n",
    "\n",
    "tensorboard = tf.keras.callbacks.TensorBoard(log_dir=\"logs/{}\".format(time()))\n",
    "\n",
    "model.fit(train_images, train_labels, epochs=20, validation_split=0.2, callbacks=[tensorboard])"
   ]
  },
  {
   "cell_type": "code",
   "execution_count": 9,
   "metadata": {},
   "outputs": [
    {
     "name": "stdout",
     "output_type": "stream",
     "text": [
      "10000/10000 [==============================] - 1s 124us/sample - loss: 0.2669 - acc: 0.9165\n",
      "Test accuracy: 0.9165\n"
     ]
    }
   ],
   "source": [
    "test_loss, test_acc = model.evaluate(test_images, test_labels)\n",
    "\n",
    "print('Test accuracy:', test_acc)"
   ]
  },
  {
   "cell_type": "code",
   "execution_count": null,
   "metadata": {},
   "outputs": [],
   "source": []
  }
 ],
 "metadata": {
  "kernelspec": {
   "display_name": "Python 3",
   "language": "python",
   "name": "python3"
  },
  "language_info": {
   "codemirror_mode": {
    "name": "ipython",
    "version": 3
   },
   "file_extension": ".py",
   "mimetype": "text/x-python",
   "name": "python",
   "nbconvert_exporter": "python",
   "pygments_lexer": "ipython3",
   "version": "3.6.5"
  }
 },
 "nbformat": 4,
 "nbformat_minor": 2
}

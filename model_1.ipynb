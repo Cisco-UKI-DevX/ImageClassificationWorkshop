{
 "cells": [
  {
   "cell_type": "code",
   "execution_count": 16,
   "metadata": {},
   "outputs": [],
   "source": [
    "from __future__ import absolute_import, division, print_function\n",
    "\n",
    "import tensorflow as tf\n",
    "from tensorflow import keras\n",
    "import numpy as np"
   ]
  },
  {
   "cell_type": "markdown",
   "metadata": {},
   "source": [
    "## Load fashion MNIST data into 4 ndarrays"
   ]
  },
  {
   "cell_type": "code",
   "execution_count": 17,
   "metadata": {},
   "outputs": [],
   "source": [
    "fashion_mnist = keras.datasets.fashion_mnist\n",
    "(train_images, train_labels), (test_images, test_labels) = fashion_mnist.load_data()"
   ]
  },
  {
   "cell_type": "markdown",
   "metadata": {},
   "source": [
    "## Image Data Preprocessing "
   ]
  },
  {
   "cell_type": "code",
   "execution_count": 18,
   "metadata": {},
   "outputs": [],
   "source": [
    "train_images = train_images / 255.0\n",
    "test_images = test_images / 255.0"
   ]
  },
  {
   "cell_type": "markdown",
   "metadata": {},
   "source": [
    "## Build Model with Keras API"
   ]
  },
  {
   "cell_type": "code",
   "execution_count": 19,
   "metadata": {},
   "outputs": [],
   "source": [
    "model = keras.Sequential([keras.layers.Flatten(input_shape=(28, 28)),\n",
    "        keras.layers.Dense(512, activation = \"relu\"),\n",
    "        keras.layers.Dense(10, activation = \"softmax\")])"
   ]
  },
  {
   "cell_type": "markdown",
   "metadata": {},
   "source": [
    "## Compile Model"
   ]
  },
  {
   "cell_type": "code",
   "execution_count": 20,
   "metadata": {},
   "outputs": [],
   "source": [
    "model.compile(optimizer='adam', \n",
    "              loss='sparse_categorical_crossentropy',\n",
    "              metrics=['accuracy'])"
   ]
  },
  {
   "cell_type": "markdown",
   "metadata": {},
   "source": [
    "## Train Model"
   ]
  },
  {
   "cell_type": "code",
   "execution_count": 21,
   "metadata": {},
   "outputs": [
    {
     "name": "stdout",
     "output_type": "stream",
     "text": [
      "Train on 48000 samples, validate on 12000 samples\n",
      "Epoch 1/20\n",
      "48000/48000 [==============================] - 7s 155us/sample - loss: 0.4915 - acc: 0.8255 - val_loss: 0.3915 - val_acc: 0.8553\n",
      "Epoch 2/20\n",
      "48000/48000 [==============================] - 7s 154us/sample - loss: 0.3661 - acc: 0.8670 - val_loss: 0.3748 - val_acc: 0.8659\n",
      "Epoch 3/20\n",
      "48000/48000 [==============================] - 7s 155us/sample - loss: 0.3290 - acc: 0.8784 - val_loss: 0.3504 - val_acc: 0.8727\n",
      "Epoch 4/20\n",
      "48000/48000 [==============================] - 7s 152us/sample - loss: 0.3060 - acc: 0.8861 - val_loss: 0.3360 - val_acc: 0.8806\n",
      "Epoch 5/20\n",
      "48000/48000 [==============================] - 7s 153us/sample - loss: 0.2861 - acc: 0.8929 - val_loss: 0.3196 - val_acc: 0.8847\n",
      "Epoch 6/20\n",
      "48000/48000 [==============================] - 7s 154us/sample - loss: 0.2698 - acc: 0.8992 - val_loss: 0.3130 - val_acc: 0.8908\n",
      "Epoch 7/20\n",
      "48000/48000 [==============================] - 7s 153us/sample - loss: 0.2552 - acc: 0.9049 - val_loss: 0.3343 - val_acc: 0.8825\n",
      "Epoch 8/20\n",
      "48000/48000 [==============================] - 7s 153us/sample - loss: 0.2441 - acc: 0.9087 - val_loss: 0.3049 - val_acc: 0.8923\n",
      "Epoch 9/20\n",
      "48000/48000 [==============================] - 7s 152us/sample - loss: 0.2320 - acc: 0.9124 - val_loss: 0.3203 - val_acc: 0.8890\n",
      "Epoch 10/20\n",
      "48000/48000 [==============================] - 7s 154us/sample - loss: 0.2247 - acc: 0.9153 - val_loss: 0.3142 - val_acc: 0.8923\n",
      "Epoch 11/20\n",
      "48000/48000 [==============================] - 7s 152us/sample - loss: 0.2147 - acc: 0.9199 - val_loss: 0.3249 - val_acc: 0.8892\n",
      "Epoch 12/20\n",
      "48000/48000 [==============================] - 7s 150us/sample - loss: 0.2052 - acc: 0.9227 - val_loss: 0.3131 - val_acc: 0.8916\n",
      "Epoch 13/20\n",
      "48000/48000 [==============================] - 7s 151us/sample - loss: 0.1985 - acc: 0.9246 - val_loss: 0.3274 - val_acc: 0.8908\n",
      "Epoch 14/20\n",
      "48000/48000 [==============================] - 7s 153us/sample - loss: 0.1913 - acc: 0.9279 - val_loss: 0.3360 - val_acc: 0.8905\n",
      "Epoch 15/20\n",
      "48000/48000 [==============================] - 7s 153us/sample - loss: 0.1832 - acc: 0.9314 - val_loss: 0.3111 - val_acc: 0.8955\n",
      "Epoch 16/20\n",
      "48000/48000 [==============================] - 7s 154us/sample - loss: 0.1771 - acc: 0.9332 - val_loss: 0.3376 - val_acc: 0.8953\n",
      "Epoch 17/20\n",
      "48000/48000 [==============================] - 7s 150us/sample - loss: 0.1710 - acc: 0.9360 - val_loss: 0.3412 - val_acc: 0.8920\n",
      "Epoch 18/20\n",
      "48000/48000 [==============================] - 7s 154us/sample - loss: 0.1669 - acc: 0.9372 - val_loss: 0.3452 - val_acc: 0.8911\n",
      "Epoch 19/20\n",
      "48000/48000 [==============================] - 7s 155us/sample - loss: 0.1609 - acc: 0.9399 - val_loss: 0.3375 - val_acc: 0.8942\n",
      "Epoch 20/20\n",
      "48000/48000 [==============================] - 7s 154us/sample - loss: 0.1563 - acc: 0.9405 - val_loss: 0.3442 - val_acc: 0.8947\n"
     ]
    },
    {
     "data": {
      "text/plain": [
       "<tensorflow.python.keras.callbacks.History at 0x7f5678621f60>"
      ]
     },
     "execution_count": 21,
     "metadata": {},
     "output_type": "execute_result"
    }
   ],
   "source": [
    "from time import time\n",
    "\n",
    "tensorboard = tf.keras.callbacks.TensorBoard(log_dir=\"logs/{}\".format(time()))\n",
    "model.fit(train_images, train_labels, epochs=20, \n",
    "          validation_split=0.2, callbacks=[tensorboard])"
   ]
  },
  {
   "cell_type": "markdown",
   "metadata": {},
   "source": [
    "## Evaluate Model"
   ]
  },
  {
   "cell_type": "code",
   "execution_count": 22,
   "metadata": {},
   "outputs": [
    {
     "name": "stdout",
     "output_type": "stream",
     "text": [
      "10000/10000 [==============================] - 1s 60us/sample - loss: 0.3873 - acc: 0.8868\n",
      "Test accuracy: 0.8868\n"
     ]
    }
   ],
   "source": [
    "test_loss, test_acc = model.evaluate(test_images, test_labels)\n",
    "\n",
    "print('Test accuracy:', test_acc)"
   ]
  },
  {
   "cell_type": "code",
   "execution_count": null,
   "metadata": {},
   "outputs": [],
   "source": []
  }
 ],
 "metadata": {
  "kernelspec": {
   "display_name": "Python 3",
   "language": "python",
   "name": "python3"
  },
  "language_info": {
   "codemirror_mode": {
    "name": "ipython",
    "version": 3
   },
   "file_extension": ".py",
   "mimetype": "text/x-python",
   "name": "python",
   "nbconvert_exporter": "python",
   "pygments_lexer": "ipython3",
   "version": "3.6.5"
  }
 },
 "nbformat": 4,
 "nbformat_minor": 2
}

{
 "cells": [
  {
   "cell_type": "code",
   "execution_count": 9,
   "metadata": {},
   "outputs": [],
   "source": [
    "from __future__ import absolute_import, division, print_function\n",
    "\n",
    "import tensorflow as tf\n",
    "from tensorflow import keras\n",
    "import numpy as np"
   ]
  },
  {
   "cell_type": "code",
   "execution_count": 10,
   "metadata": {},
   "outputs": [],
   "source": [
    "fashion_mnist = keras.datasets.fashion_mnist\n",
    "\n",
    "(train_images, train_labels), (test_images, test_labels) = fashion_mnist.load_data()"
   ]
  },
  {
   "cell_type": "code",
   "execution_count": 11,
   "metadata": {},
   "outputs": [],
   "source": [
    "train_images = train_images / 255.0\n",
    "\n",
    "test_images = test_images / 255.0"
   ]
  },
  {
   "cell_type": "markdown",
   "metadata": {},
   "source": [
    "# Add depth dimension"
   ]
  },
  {
   "cell_type": "code",
   "execution_count": 12,
   "metadata": {},
   "outputs": [],
   "source": [
    "train_images = train_images.reshape(train_images.shape[0], train_images.shape[1], train_images.shape[2], 1)\n",
    "train_labels = train_labels.reshape(train_labels.shape[0], 1)\n",
    "\n",
    "test_images = test_images.reshape(test_images.shape[0], test_images.shape[1], test_images.shape[2], 1)\n",
    "test_labels = test_labels.reshape(test_labels.shape[0], 1)"
   ]
  },
  {
   "cell_type": "markdown",
   "metadata": {},
   "source": [
    "# Add Convolutional Layer and MaxPooling Layer"
   ]
  },
  {
   "cell_type": "code",
   "execution_count": 13,
   "metadata": {},
   "outputs": [],
   "source": [
    "model = keras.Sequential([\n",
    "        keras.layers.Conv2D(filters = 32, kernel_size = (5,5),activation ='relu', padding='same', \n",
    "                            input_shape = (28,28,1)),\n",
    "        keras.layers.MaxPooling2D(pool_size=(2,2)),       \n",
    "\n",
    "        keras.layers.Flatten(),\n",
    "        keras.layers.Dense(512, activation = \"relu\"),\n",
    "        keras.layers.Dense(10, activation = \"softmax\")])"
   ]
  },
  {
   "cell_type": "code",
   "execution_count": 14,
   "metadata": {},
   "outputs": [],
   "source": [
    "model.compile(optimizer='adam', \n",
    "              loss='sparse_categorical_crossentropy',\n",
    "              metrics=['accuracy'])"
   ]
  },
  {
   "cell_type": "code",
   "execution_count": 15,
   "metadata": {},
   "outputs": [
    {
     "name": "stdout",
     "output_type": "stream",
     "text": [
      "Train on 48000 samples, validate on 12000 samples\n",
      "Epoch 1/20\n",
      "48000/48000 [==============================] - 24s 499us/sample - loss: 0.3761 - acc: 0.8648 - val_loss: 0.2847 - val_acc: 0.8971\n",
      "Epoch 2/20\n",
      "48000/48000 [==============================] - 24s 493us/sample - loss: 0.2494 - acc: 0.9071 - val_loss: 0.2534 - val_acc: 0.9088\n",
      "Epoch 3/20\n",
      "48000/48000 [==============================] - 24s 493us/sample - loss: 0.1981 - acc: 0.9249 - val_loss: 0.2512 - val_acc: 0.9080\n",
      "Epoch 4/20\n",
      "48000/48000 [==============================] - 24s 495us/sample - loss: 0.1607 - acc: 0.9399 - val_loss: 0.2468 - val_acc: 0.9115\n",
      "Epoch 5/20\n",
      "48000/48000 [==============================] - 24s 493us/sample - loss: 0.1287 - acc: 0.9522 - val_loss: 0.2646 - val_acc: 0.9112\n",
      "Epoch 6/20\n",
      "48000/48000 [==============================] - 24s 493us/sample - loss: 0.1032 - acc: 0.9621 - val_loss: 0.2785 - val_acc: 0.9143\n",
      "Epoch 7/20\n",
      "48000/48000 [==============================] - 24s 494us/sample - loss: 0.0811 - acc: 0.9699 - val_loss: 0.2942 - val_acc: 0.9135\n",
      "Epoch 8/20\n",
      "48000/48000 [==============================] - 24s 493us/sample - loss: 0.0588 - acc: 0.9788 - val_loss: 0.3329 - val_acc: 0.9141\n",
      "Epoch 9/20\n",
      "48000/48000 [==============================] - 24s 494us/sample - loss: 0.0544 - acc: 0.9805 - val_loss: 0.3799 - val_acc: 0.9094\n",
      "Epoch 10/20\n",
      "48000/48000 [==============================] - 24s 494us/sample - loss: 0.0395 - acc: 0.9867 - val_loss: 0.4048 - val_acc: 0.9076\n",
      "Epoch 11/20\n",
      "48000/48000 [==============================] - 24s 492us/sample - loss: 0.0376 - acc: 0.9872 - val_loss: 0.3972 - val_acc: 0.9157\n",
      "Epoch 12/20\n",
      "48000/48000 [==============================] - 24s 495us/sample - loss: 0.0280 - acc: 0.9904 - val_loss: 0.4079 - val_acc: 0.9168\n",
      "Epoch 13/20\n",
      "48000/48000 [==============================] - 24s 493us/sample - loss: 0.0265 - acc: 0.9909 - val_loss: 0.4642 - val_acc: 0.9106\n",
      "Epoch 14/20\n",
      "48000/48000 [==============================] - 24s 495us/sample - loss: 0.0224 - acc: 0.9924 - val_loss: 0.4460 - val_acc: 0.9136\n",
      "Epoch 15/20\n",
      "48000/48000 [==============================] - 24s 493us/sample - loss: 0.0207 - acc: 0.9927 - val_loss: 0.4752 - val_acc: 0.9132\n",
      "Epoch 16/20\n",
      "48000/48000 [==============================] - 24s 492us/sample - loss: 0.0137 - acc: 0.9953 - val_loss: 0.4843 - val_acc: 0.9103\n",
      "Epoch 17/20\n",
      "48000/48000 [==============================] - 24s 493us/sample - loss: 0.0178 - acc: 0.9937 - val_loss: 0.5303 - val_acc: 0.9136\n",
      "Epoch 18/20\n",
      "48000/48000 [==============================] - 24s 495us/sample - loss: 0.0151 - acc: 0.9950 - val_loss: 0.5588 - val_acc: 0.9079\n",
      "Epoch 19/20\n",
      "48000/48000 [==============================] - 24s 493us/sample - loss: 0.0123 - acc: 0.9963 - val_loss: 0.6163 - val_acc: 0.9068\n",
      "Epoch 20/20\n",
      "48000/48000 [==============================] - 24s 494us/sample - loss: 0.0136 - acc: 0.9956 - val_loss: 0.6018 - val_acc: 0.9105\n"
     ]
    },
    {
     "data": {
      "text/plain": [
       "<tensorflow.python.keras.callbacks.History at 0x7efea46fe7b8>"
      ]
     },
     "execution_count": 15,
     "metadata": {},
     "output_type": "execute_result"
    }
   ],
   "source": [
    "from time import time\n",
    "\n",
    "tensorboard = tf.keras.callbacks.TensorBoard(log_dir=\"logs/{}\".format(time()))\n",
    "\n",
    "model.fit(train_images, train_labels, epochs=20, validation_split=0.2, callbacks=[tensorboard])"
   ]
  },
  {
   "cell_type": "code",
   "execution_count": 16,
   "metadata": {},
   "outputs": [
    {
     "name": "stdout",
     "output_type": "stream",
     "text": [
      "10000/10000 [==============================] - 1s 121us/sample - loss: 0.6025 - acc: 0.9133\n",
      "Test accuracy: 0.9133\n"
     ]
    }
   ],
   "source": [
    "test_loss, test_acc = model.evaluate(test_images, test_labels)\n",
    "\n",
    "print('Test accuracy:', test_acc)"
   ]
  }
 ],
 "metadata": {
  "kernelspec": {
   "display_name": "Python 3",
   "language": "python",
   "name": "python3"
  },
  "language_info": {
   "codemirror_mode": {
    "name": "ipython",
    "version": 3
   },
   "file_extension": ".py",
   "mimetype": "text/x-python",
   "name": "python",
   "nbconvert_exporter": "python",
   "pygments_lexer": "ipython3",
   "version": "3.6.5"
  }
 },
 "nbformat": 4,
 "nbformat_minor": 2
}

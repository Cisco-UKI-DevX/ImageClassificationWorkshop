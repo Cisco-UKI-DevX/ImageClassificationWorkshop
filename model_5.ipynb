{
 "cells": [
  {
   "cell_type": "code",
   "execution_count": 1,
   "metadata": {},
   "outputs": [],
   "source": [
    "from __future__ import absolute_import, division, print_function\n",
    "\n",
    "import tensorflow as tf\n",
    "from tensorflow import keras\n",
    "import numpy as np"
   ]
  },
  {
   "cell_type": "code",
   "execution_count": 2,
   "metadata": {},
   "outputs": [],
   "source": [
    "fashion_mnist = keras.datasets.fashion_mnist\n",
    "\n",
    "(train_images, train_labels), (test_images, test_labels) = fashion_mnist.load_data()"
   ]
  },
  {
   "cell_type": "code",
   "execution_count": 3,
   "metadata": {},
   "outputs": [],
   "source": [
    "train_images = train_images / 255.0\n",
    "\n",
    "test_images = test_images / 255.0"
   ]
  },
  {
   "cell_type": "code",
   "execution_count": 4,
   "metadata": {},
   "outputs": [],
   "source": [
    "train_images = train_images.reshape(train_images.shape[0], train_images.shape[1], train_images.shape[2], 1)\n",
    "train_labels = train_labels.reshape(train_labels.shape[0], 1)\n",
    "\n",
    "test_images = test_images.reshape(test_images.shape[0], test_images.shape[1], test_images.shape[2], 1)\n",
    "test_labels = test_labels.reshape(test_labels.shape[0], 1)"
   ]
  },
  {
   "cell_type": "code",
   "execution_count": 5,
   "metadata": {},
   "outputs": [
    {
     "name": "stdout",
     "output_type": "stream",
     "text": [
      "WARNING:tensorflow:From /home/zmingen/Vision/target/code/workshop/venv/lib/python3.6/site-packages/tensorflow/python/ops/resource_variable_ops.py:435: colocate_with (from tensorflow.python.framework.ops) is deprecated and will be removed in a future version.\n",
      "Instructions for updating:\n",
      "Colocations handled automatically by placer.\n",
      "WARNING:tensorflow:From /home/zmingen/Vision/target/code/workshop/venv/lib/python3.6/site-packages/tensorflow/python/keras/layers/core.py:143: calling dropout (from tensorflow.python.ops.nn_ops) with keep_prob is deprecated and will be removed in a future version.\n",
      "Instructions for updating:\n",
      "Please use `rate` instead of `keep_prob`. Rate should be set to `rate = 1 - keep_prob`.\n"
     ]
    }
   ],
   "source": [
    "model = keras.Sequential([\n",
    "        keras.layers.Conv2D(filters = 32, kernel_size = (5,5),activation ='relu', padding='same', \n",
    "                            input_shape = (28,28,1)),\n",
    "        keras.layers.MaxPooling2D(pool_size=(2,2)),    \n",
    "        # Add Dropout Layer\n",
    "        keras.layers.Dropout(rate=0.5),\n",
    "\n",
    "        keras.layers.Flatten(),\n",
    "        keras.layers.Dense(512, activation = \"relu\"),\n",
    "        # Add Dropout Layer\n",
    "        keras.layers.Dropout(rate=0.5),\n",
    "        keras.layers.Dense(10, activation = \"softmax\")])"
   ]
  },
  {
   "cell_type": "code",
   "execution_count": 6,
   "metadata": {},
   "outputs": [],
   "source": [
    "model.compile(optimizer='adam', \n",
    "              loss='sparse_categorical_crossentropy',\n",
    "              metrics=['accuracy'])"
   ]
  },
  {
   "cell_type": "code",
   "execution_count": 7,
   "metadata": {},
   "outputs": [],
   "source": [
    "earlystop = tf.keras.callbacks.EarlyStopping(monitor='val_loss', patience=3)"
   ]
  },
  {
   "cell_type": "markdown",
   "metadata": {},
   "source": [
    "## Define Learning Rate Scheduler"
   ]
  },
  {
   "cell_type": "code",
   "execution_count": 8,
   "metadata": {},
   "outputs": [],
   "source": [
    "def step_decay(epoch):\n",
    "   if epoch in range(10):\n",
    "    return 0.001\n",
    "   elif epoch in range(10, 20):\n",
    "    return 0.0005\n",
    "\n",
    "lrate = tf.keras.callbacks.LearningRateScheduler(step_decay)"
   ]
  },
  {
   "cell_type": "code",
   "execution_count": 9,
   "metadata": {},
   "outputs": [
    {
     "name": "stdout",
     "output_type": "stream",
     "text": [
      "Train on 48000 samples, validate on 12000 samples\n",
      "Epoch 1/20\n",
      "48000/48000 [==============================] - 25s 527us/sample - loss: 0.4546 - acc: 0.8373 - val_loss: 0.3205 - val_acc: 0.8848\n",
      "Epoch 2/20\n",
      "48000/48000 [==============================] - 25s 527us/sample - loss: 0.3292 - acc: 0.8790 - val_loss: 0.2770 - val_acc: 0.8977\n",
      "Epoch 3/20\n",
      "48000/48000 [==============================] - 25s 514us/sample - loss: 0.2885 - acc: 0.8924 - val_loss: 0.2644 - val_acc: 0.9004\n",
      "Epoch 4/20\n",
      "48000/48000 [==============================] - 25s 514us/sample - loss: 0.2683 - acc: 0.8994 - val_loss: 0.2584 - val_acc: 0.9044\n",
      "Epoch 5/20\n",
      "48000/48000 [==============================] - 25s 514us/sample - loss: 0.2544 - acc: 0.9038 - val_loss: 0.2539 - val_acc: 0.9072\n",
      "Epoch 6/20\n",
      "48000/48000 [==============================] - 25s 516us/sample - loss: 0.2356 - acc: 0.9125 - val_loss: 0.2466 - val_acc: 0.9113\n",
      "Epoch 7/20\n",
      "48000/48000 [==============================] - 25s 516us/sample - loss: 0.2258 - acc: 0.9170 - val_loss: 0.2429 - val_acc: 0.9132\n",
      "Epoch 8/20\n",
      "48000/48000 [==============================] - 25s 513us/sample - loss: 0.2156 - acc: 0.9192 - val_loss: 0.2486 - val_acc: 0.9116\n",
      "Epoch 9/20\n",
      "48000/48000 [==============================] - 25s 517us/sample - loss: 0.2025 - acc: 0.9229 - val_loss: 0.2436 - val_acc: 0.9129\n",
      "Epoch 10/20\n",
      "48000/48000 [==============================] - 25s 516us/sample - loss: 0.1975 - acc: 0.9259 - val_loss: 0.2448 - val_acc: 0.9135\n",
      "Epoch 11/20\n",
      "48000/48000 [==============================] - 25s 518us/sample - loss: 0.1657 - acc: 0.9372 - val_loss: 0.2365 - val_acc: 0.9187\n",
      "Epoch 12/20\n",
      "48000/48000 [==============================] - 25s 516us/sample - loss: 0.1548 - acc: 0.9416 - val_loss: 0.2371 - val_acc: 0.9201\n",
      "Epoch 13/20\n",
      "48000/48000 [==============================] - 25s 517us/sample - loss: 0.1486 - acc: 0.9446 - val_loss: 0.2415 - val_acc: 0.9199\n",
      "Epoch 14/20\n",
      "48000/48000 [==============================] - 25s 518us/sample - loss: 0.1465 - acc: 0.9438 - val_loss: 0.2373 - val_acc: 0.9187\n",
      "Epoch 15/20\n",
      "48000/48000 [==============================] - 25s 516us/sample - loss: 0.1400 - acc: 0.9475 - val_loss: 0.2392 - val_acc: 0.9209\n",
      "Epoch 16/20\n",
      "48000/48000 [==============================] - 25s 516us/sample - loss: 0.1357 - acc: 0.9485 - val_loss: 0.2399 - val_acc: 0.9222\n",
      "Epoch 17/20\n",
      "48000/48000 [==============================] - 25s 517us/sample - loss: 0.1294 - acc: 0.9508 - val_loss: 0.2419 - val_acc: 0.9204\n",
      "Epoch 18/20\n",
      "48000/48000 [==============================] - 25s 518us/sample - loss: 0.1257 - acc: 0.9531 - val_loss: 0.2381 - val_acc: 0.9220\n",
      "Epoch 19/20\n",
      "48000/48000 [==============================] - 25s 519us/sample - loss: 0.1266 - acc: 0.9527 - val_loss: 0.2359 - val_acc: 0.9208\n",
      "Epoch 20/20\n",
      "48000/48000 [==============================] - 25s 519us/sample - loss: 0.1220 - acc: 0.9536 - val_loss: 0.2475 - val_acc: 0.9199\n"
     ]
    },
    {
     "data": {
      "text/plain": [
       "<tensorflow.python.keras.callbacks.History at 0x7fd546d54240>"
      ]
     },
     "execution_count": 9,
     "metadata": {},
     "output_type": "execute_result"
    }
   ],
   "source": [
    "from time import time\n",
    "\n",
    "tensorboard = tf.keras.callbacks.TensorBoard(log_dir=\"logs/{}\".format(time()))\n",
    "\n",
    "model.fit(train_images, train_labels, epochs=20, validation_split=0.2, callbacks=[tensorboard, lrate])"
   ]
  },
  {
   "cell_type": "code",
   "execution_count": 10,
   "metadata": {},
   "outputs": [
    {
     "name": "stdout",
     "output_type": "stream",
     "text": [
      "10000/10000 [==============================] - 1s 122us/sample - loss: 0.2621 - acc: 0.9198\n",
      "Test accuracy: 0.9198\n"
     ]
    }
   ],
   "source": [
    "test_loss, test_acc = model.evaluate(test_images, test_labels)\n",
    "\n",
    "print('Test accuracy:', test_acc)"
   ]
  },
  {
   "cell_type": "code",
   "execution_count": null,
   "metadata": {},
   "outputs": [],
   "source": []
  }
 ],
 "metadata": {
  "kernelspec": {
   "display_name": "Python 3",
   "language": "python",
   "name": "python3"
  },
  "language_info": {
   "codemirror_mode": {
    "name": "ipython",
    "version": 3
   },
   "file_extension": ".py",
   "mimetype": "text/x-python",
   "name": "python",
   "nbconvert_exporter": "python",
   "pygments_lexer": "ipython3",
   "version": "3.6.5"
  }
 },
 "nbformat": 4,
 "nbformat_minor": 2
}
